{
 "cells": [
  {
   "cell_type": "code",
   "execution_count": 3,
   "id": "a6524501-e6ec-47eb-acf8-13950522453a",
   "metadata": {},
   "outputs": [],
   "source": [
    "import json\n",
    "from datetime import datetime\n",
    "#!pip install tld\n",
    "#!pip install dateparser\n",
    "#!pip install geoip2\n",
    "#!pip install trackingprotection-tools\n",
    "#!pip install pillow\n",
    "import dateparser\n",
    "import pytz\n",
    "import base64\n",
    "import geoip2.database \n",
    "import os\n",
    "from io import BytesIO\n",
    "import pandas as pd\n",
    "from tld import get_fld\n",
    "import matplotlib.pyplot as plt\n",
    "import trackingprotection_tools\n",
    "import statistics\n",
    "from PIL import Image\n",
    "\n"
   ]
  },
  {
   "cell_type": "markdown",
   "id": "7a5de760-4ced-47a1-ab7c-356db3263341",
   "metadata": {},
   "source": [
    "### Datasets"
   ]
  },
  {
   "cell_type": "code",
   "execution_count": 4,
   "id": "27850505-4786-4da3-97cb-a008b8e4a77c",
   "metadata": {},
   "outputs": [],
   "source": [
    "\n",
    "directory = 'webcrawlercrawl_data'\n",
    "\n",
    "#list of jsons paths\n",
    "json_list = []\n",
    "\n",
    "#filtered noop and accept\n",
    "noop_list = []\n",
    "accept_list = []\n",
    "\n",
    "entity_list = json.loads(open('domain_map.json',  encoding=\"utf8\").read())\n",
    "\n",
    "#iterate over every file get the json files and put the json path into the json_list\n",
    "for filename in os.listdir(directory):\n",
    "    f = os.path.join(directory, filename)\n",
    "    if os.path.isfile(f): \n",
    "        if '.json' in f:\n",
    "            json_list.append(f)\n",
    "\n",
    "for crawl in json_list:\n",
    "    #load the json\n",
    "    with open(crawl, \"r\") as data:\n",
    "        crawl_data = json.load(data)\n",
    "    #check wether it is an 'accept'or a 'noop'\n",
    "    if 'accept' in crawl:\n",
    "        accept_list.append(crawl_data)\n",
    "    elif 'noop' in crawl:\n",
    "        noop_list.append(crawl_data)\n",
    "\n"
   ]
  },
  {
   "cell_type": "markdown",
   "id": "71be6056-bc94-4651-ba20-c1ceb77082f2",
   "metadata": {},
   "source": [
    "### 1: Number of crawl failures"
   ]
  },
  {
   "cell_type": "code",
   "execution_count": 5,
   "id": "5e059b5d-94fa-44da-bc1d-944ea13f9417",
   "metadata": {},
   "outputs": [
    {
     "name": "stdout",
     "output_type": "stream",
     "text": [
      "                     Crawl-accept  Crawl-noop\n",
      "Error type                                   \n",
      "Page load timeout               0           0\n",
      "DNS error                       0           0\n",
      "Consent click error             3           0\n"
     ]
    }
   ],
   "source": [
    "#create a table for the crawl failures\n",
    "empty_failure_table = { 'Error type': ['Page load timeout','DNS error','Consent click error'],\n",
    "         'Crawl-accept':[0,0,0],\n",
    "         'Crawl-noop':[0,0,0]}\n",
    "\n",
    "failure_table  = pd.DataFrame(empty_failure_table).set_index('Error type')\n",
    "\n",
    "#check if there was a failure\n",
    "def check_failure (data, crawl_type):\n",
    "    if data['consentClickError']:\n",
    "        current_value = failure_table[crawl_type]['Consent click error'] \n",
    "        failure_table[crawl_type]['Consent click error'] = current_value +1\n",
    "    elif data['pageLoadTimeout']:\n",
    "        current_value = failure_table[crawl_type]['Page load timeout']\n",
    "        failure_table[crawl_type]['Page load timeout'] = current_value +1\n",
    "    elif data['dnsError']:\n",
    "        current_value = failure_table[crawl_type]['DNS error'] \n",
    "        failure_table[crawl_type]['DNS error'] = current_value +1\n",
    "\n",
    "\n",
    "#fill in the  crawl failure table\n",
    "def fill_table (noop_list ,accept_list):\n",
    "    #loop throught\n",
    "    for accept in accept_list:\n",
    "        #check if there was a failure\n",
    "        check_failure(accept,'Crawl-accept' )\n",
    "    for noop in noop_list:\n",
    "        check_failure(noop, 'Crawl-noop')\n",
    "            \n",
    "            \n",
    "##fill in the failure table\n",
    "fill_table(noop_list,accept_list)\n",
    "\n",
    "print (failure_table)\n",
    "    "
   ]
  },
  {
   "cell_type": "markdown",
   "id": "b5bff836-c35a-4239-8220-096c36e25877",
   "metadata": {},
   "source": [
    "###  2: Comparison Crawl-accept vs Crawl-noop (box plot)\n"
   ]
  },
  {
   "cell_type": "markdown",
   "id": "584a949b-191e-4ce9-ad03-21e3e03426c6",
   "metadata": {},
   "source": [
    "##### a. Page load time"
   ]
  },
  {
   "cell_type": "code",
   "execution_count": 6,
   "id": "87d5451a-3ad4-4148-8e6b-83d61c96a121",
   "metadata": {},
   "outputs": [
    {
     "name": "stdout",
     "output_type": "stream",
     "text": [
      "[2.642, 3.375, 2.515, 2.107, 3.182, 3.25, 9.312, 2.319, 5.975]\n",
      "[2.822, 2.799, 2.579, 3.637, 4.136, 3.163, 10.465, 2.098, 4.915]\n"
     ]
    },
    {
     "data": {
      "text/plain": [
       "<Axes: >"
      ]
     },
     "execution_count": 6,
     "metadata": {},
     "output_type": "execute_result"
    },
    {
     "data": {
      "image/png": "[encoded data removed]",
      "text/plain": [
       "<Figure size 640x480 with 1 Axes>"
      ]
     },
     "metadata": {},
     "output_type": "display_data"
    }
   ],
   "source": [
    "load_time_accept = []\n",
    "load_time_noop = []\n",
    "\n",
    "def page_load_time(data):\n",
    "    difference = data['pageLoadEndTimestamp'] - data['pageLoadStartTimestamp']\n",
    "    if difference <0:\n",
    "        time = 0\n",
    "    else:\n",
    "        time = difference/1000\n",
    "    return (time)\n",
    "\n",
    "def fill_page_load_lists(accept_list,noop_list ):\n",
    "    for crawl_accept in accept_list:\n",
    "        load_time_accept.append(page_load_time(crawl_accept))\n",
    "    for crawl_noop in noop_list:\n",
    "        load_time_noop.append(page_load_time(crawl_noop))\n",
    "\n",
    "\n",
    "fill_page_load_lists(accept_list,noop_list )\n",
    "print (load_time_accept )\n",
    "print (load_time_noop )\n",
    "page_load_time_boxplot = { 'Crawl-accept': load_time_accept , 'Crawl-noop': load_time_noop}\n",
    "\n",
    "\n",
    "df = pd.DataFrame(page_load_time_boxplot)\n",
    "df.plot(kind='box')\n"
   ]
  },
  {
   "cell_type": "markdown",
   "id": "f0c89bdf-5ae3-48af-a911-06ab8aece49d",
   "metadata": {},
   "source": [
    "##### b. Number of requests\n"
   ]
  },
  {
   "cell_type": "code",
   "execution_count": 7,
   "id": "37868558-b13e-435a-b57d-18e4fa05cc80",
   "metadata": {},
   "outputs": [
    {
     "name": "stdout",
     "output_type": "stream",
     "text": [
      "[0, 6, 9, 0, 3, 0, 13, 0, 225]\n",
      "[0, 6, 7, 0, 2, 0, 10, 0, 85]\n"
     ]
    },
    {
     "data": {
      "text/plain": [
       "<Axes: >"
      ]
     },
     "execution_count": 7,
     "metadata": {},
     "output_type": "execute_result"
    },
    {
     "data": {
      "image/png": "[encoded data removed]",
      "text/plain": [
       "<Figure size 640x480 with 1 Axes>"
      ]
     },
     "metadata": {},
     "output_type": "display_data"
    }
   ],
   "source": [
    "nr_request_data_noop = []\n",
    "nr_request_data_accept = [] \n",
    "\n",
    "def num_requests(data):\n",
    "    return len(data['httpRequests'])\n",
    "\n",
    "def fill_request_lists(accept_list,noop_list):\n",
    "    for crawl_accept in accept_list:\n",
    "        nr_request_data_accept.append(num_requests(crawl_accept))\n",
    "    for crawl_noop in noop_list:\n",
    "        nr_request_data_noop.append(num_requests(crawl_noop))\n",
    "\n",
    "fill_request_lists(accept_list,noop_list)\n",
    "request_boxplot = { 'Crawl-accept': nr_request_data_accept, 'Crawl-noop': nr_request_data_noop}\n",
    "\n",
    "print (nr_request_data_accept)\n",
    "print (nr_request_data_noop)\n",
    "\n",
    "df = pd.DataFrame(request_boxplot)\n",
    "df.plot(kind='box')\n",
    "\n",
    "\n",
    "    "
   ]
  },
  {
   "cell_type": "markdown",
   "id": "7f475831-10b4-46f0-a8f4-96515c8fed10",
   "metadata": {},
   "source": [
    "##### c. Number of distinct third parties"
   ]
  },
  {
   "cell_type": "code",
   "execution_count": 8,
   "id": "afc96856-7c96-4046-99f6-3ba230a2fe70",
   "metadata": {},
   "outputs": [
    {
     "name": "stdout",
     "output_type": "stream",
     "text": [
      "[0, 0, 0, 0, 0, 0, 0, 0, 7]\n",
      "[0, 0, 0, 0, 0, 0, 0, 0, 6]\n"
     ]
    },
    {
     "data": {
      "text/plain": [
       "<Axes: >"
      ]
     },
     "execution_count": 8,
     "metadata": {},
     "output_type": "execute_result"
    },
    {
     "data": {
      "image/png": "[encoded data removed]",
      "text/plain": [
       "<Figure size 640x480 with 1 Axes>"
      ]
     },
     "metadata": {},
     "output_type": "display_data"
    }
   ],
   "source": [
    "nr_distinct_third_party_accept = []\n",
    "nr_distinct_third_party_noop = []\n",
    "\n",
    "\n",
    "def distinct_third_parties(requests,main_domain):\n",
    "    third_parties = set()\n",
    "    for request in requests:\n",
    "        url = request['requestURL']\n",
    "        req_domain = get_fld(url)\n",
    "        if req_domain not in main_domain:\n",
    "            third_parties.add(req_domain)\n",
    "    return len(third_parties)  \n",
    "        \n",
    "\n",
    "def fill_distinct_list(accept_list,noop_list):\n",
    "    for crawl_accept in accept_list:\n",
    "        website_domain = crawl_accept['domain'] \n",
    "        nr_distinct_third_party_accept.append(distinct_third_parties(crawl_accept['httpRequests'], website_domain)) \n",
    "    for crawl_noop in noop_list:\n",
    "        website_domain = crawl_noop['domain'] \n",
    "        nr_distinct_third_party_noop.append(distinct_third_parties(crawl_noop['httpRequests'], website_domain))\n",
    "\n",
    "fill_distinct_list(accept_list,noop_list)\n",
    "third_party_boxplot = { 'Crawl-accept': nr_distinct_third_party_accept , 'Crawl-noop': nr_distinct_third_party_noop}\n",
    "\n",
    "print(nr_distinct_third_party_accept)\n",
    "print (nr_distinct_third_party_noop)\n",
    "\n",
    "df = pd.DataFrame(third_party_boxplot)\n",
    "df.plot(kind='box')\n",
    "\n",
    "## er zijn alleen maar requests van hetzelfde domain in de huidige data"
   ]
  },
  {
   "cell_type": "markdown",
   "id": "c84d371e-1b06-45cf-bdc0-a5aa459e5de9",
   "metadata": {},
   "source": [
    "##### d. Number of distinct tracker domains\n"
   ]
  },
  {
   "cell_type": "code",
   "execution_count": 9,
   "id": "025857e3-5bad-4d10-b011-bef77e133dd5",
   "metadata": {},
   "outputs": [
    {
     "ename": "UnicodeDecodeError",
     "evalue": "'charmap' codec can't decode byte 0x9d in position 172: character maps to <undefined>",
     "output_type": "error",
     "traceback": [
      "\u001b[1;31m---------------------------------------------------------------------------\u001b[0m",
      "\u001b[1;31mUnicodeDecodeError\u001b[0m                        Traceback (most recent call last)",
      "Cell \u001b[1;32mIn[9], line 35\u001b[0m\n\u001b[0;32m     31\u001b[0m         nr_tracker_domains_noop\u001b[38;5;241m.\u001b[39mappend(\u001b[38;5;28mlen\u001b[39m(distinct_cookies))\n\u001b[0;32m     34\u001b[0m \u001b[38;5;66;03m#fill_tracker_domains(noop_list, accept_list)  \u001b[39;00m\n\u001b[1;32m---> 35\u001b[0m fill_tracker_domains_cookies(noop_list, accept_list)\n\u001b[0;32m     39\u001b[0m distinct_tracker_domain_boxplot \u001b[38;5;241m=\u001b[39m { \u001b[38;5;124m'\u001b[39m\u001b[38;5;124mCrawl-accept\u001b[39m\u001b[38;5;124m'\u001b[39m: nr_tracker_domains_accept, \u001b[38;5;124m'\u001b[39m\u001b[38;5;124mCrawl-noop\u001b[39m\u001b[38;5;124m'\u001b[39m: nr_tracker_domains_noop}\n\u001b[0;32m     41\u001b[0m \u001b[38;5;28mprint\u001b[39m (nr_tracker_domains_accept)\n",
      "Cell \u001b[1;32mIn[9], line 18\u001b[0m, in \u001b[0;36mfill_tracker_domains_cookies\u001b[1;34m(noop_list, accept_list)\u001b[0m\n\u001b[0;32m     16\u001b[0m \u001b[38;5;28;01mif\u001b[39;00m crawl_accept[\u001b[38;5;124m'\u001b[39m\u001b[38;5;124mcookies\u001b[39m\u001b[38;5;124m'\u001b[39m]:\n\u001b[0;32m     17\u001b[0m     \u001b[38;5;28;01mfor\u001b[39;00m cookie \u001b[38;5;129;01min\u001b[39;00m crawl_accept[\u001b[38;5;124m'\u001b[39m\u001b[38;5;124mcookies\u001b[39m\u001b[38;5;124m'\u001b[39m]:\n\u001b[1;32m---> 18\u001b[0m         \u001b[38;5;28;01mif\u001b[39;00m blocklisted_tracker(cookie[\u001b[38;5;124m'\u001b[39m\u001b[38;5;124mdomain\u001b[39m\u001b[38;5;124m'\u001b[39m]):\n\u001b[0;32m     19\u001b[0m             \u001b[38;5;28;01mif\u001b[39;00m cookie[\u001b[38;5;124m'\u001b[39m\u001b[38;5;124mdomain\u001b[39m\u001b[38;5;124m'\u001b[39m] \u001b[38;5;129;01mnot\u001b[39;00m \u001b[38;5;129;01min\u001b[39;00m distinct_cookies:\n\u001b[0;32m     20\u001b[0m                 distinct_cookies\u001b[38;5;241m.\u001b[39mappend(cookie[\u001b[38;5;124m'\u001b[39m\u001b[38;5;124mdomain\u001b[39m\u001b[38;5;124m'\u001b[39m]) \n",
      "Cell \u001b[1;32mIn[9], line 10\u001b[0m, in \u001b[0;36mblocklisted_tracker\u001b[1;34m(domain)\u001b[0m\n\u001b[0;32m      9\u001b[0m \u001b[38;5;28;01mdef\u001b[39;00m \u001b[38;5;21mblocklisted_tracker\u001b[39m(domain):\n\u001b[1;32m---> 10\u001b[0m     \u001b[38;5;28;01mreturn\u001b[39;00m trackingprotection_tools\u001b[38;5;241m.\u001b[39mDisconnectParser(\u001b[38;5;124m'\u001b[39m\u001b[38;5;124mservices.json\u001b[39m\u001b[38;5;124m'\u001b[39m)\u001b[38;5;241m.\u001b[39mshould_block(domain)\n",
      "File \u001b[1;32m~\\anaconda3\\envs\\CSA2\\Lib\\site-packages\\trackingprotection_tools\\DisconnectParser.py:66\u001b[0m, in \u001b[0;36mDisconnectParser.__init__\u001b[1;34m(self, blocklist, entitylist, blocklist_url, entitylist_url, disconnect_mapping, disconnect_mapping_url, categories_to_exclude, verbose)\u001b[0m\n\u001b[0;32m     63\u001b[0m \u001b[38;5;28mself\u001b[39m\u001b[38;5;241m.\u001b[39m_should_remap \u001b[38;5;241m=\u001b[39m \u001b[38;5;28mself\u001b[39m\u001b[38;5;241m.\u001b[39m_disconnect_mapping \u001b[38;5;129;01mis\u001b[39;00m \u001b[38;5;129;01mnot\u001b[39;00m \u001b[38;5;28;01mNone\u001b[39;00m\n\u001b[0;32m     65\u001b[0m \u001b[38;5;66;03m# Blocklist\u001b[39;00m\n\u001b[1;32m---> 66\u001b[0m \u001b[38;5;28mself\u001b[39m\u001b[38;5;241m.\u001b[39m_raw_blocklist \u001b[38;5;241m=\u001b[39m \u001b[38;5;28mself\u001b[39m\u001b[38;5;241m.\u001b[39m_load_list(blocklist, blocklist_url)\n\u001b[0;32m     67\u001b[0m \u001b[38;5;28;01mif\u001b[39;00m \u001b[38;5;28mself\u001b[39m\u001b[38;5;241m.\u001b[39m_raw_blocklist \u001b[38;5;129;01mis\u001b[39;00m \u001b[38;5;28;01mNone\u001b[39;00m:\n\u001b[0;32m     68\u001b[0m     \u001b[38;5;28;01mraise\u001b[39;00m \u001b[38;5;167;01mValueError\u001b[39;00m(\n\u001b[0;32m     69\u001b[0m         \u001b[38;5;124m\"\u001b[39m\u001b[38;5;124mUnable to load blocklist. Did you specify a valid list \u001b[39m\u001b[38;5;124m\"\u001b[39m\n\u001b[0;32m     70\u001b[0m         \u001b[38;5;124m\"\u001b[39m\u001b[38;5;124mlocation in `blocklist` or `blocklist_url`?\u001b[39m\u001b[38;5;124m\"\u001b[39m\n\u001b[0;32m     71\u001b[0m     )\n",
      "File \u001b[1;32m~\\anaconda3\\envs\\CSA2\\Lib\\site-packages\\trackingprotection_tools\\DisconnectParser.py:92\u001b[0m, in \u001b[0;36mDisconnectParser._load_list\u001b[1;34m(self, location, network_location)\u001b[0m\n\u001b[0;32m     90\u001b[0m \u001b[38;5;28;01mif\u001b[39;00m location \u001b[38;5;129;01mis\u001b[39;00m \u001b[38;5;129;01mnot\u001b[39;00m \u001b[38;5;28;01mNone\u001b[39;00m:\n\u001b[0;32m     91\u001b[0m     \u001b[38;5;28;01mwith\u001b[39;00m \u001b[38;5;28mopen\u001b[39m(os\u001b[38;5;241m.\u001b[39mpath\u001b[38;5;241m.\u001b[39mexpanduser(location), \u001b[38;5;124m'\u001b[39m\u001b[38;5;124mr\u001b[39m\u001b[38;5;124m'\u001b[39m) \u001b[38;5;28;01mas\u001b[39;00m f:\n\u001b[1;32m---> 92\u001b[0m         json_list \u001b[38;5;241m=\u001b[39m json\u001b[38;5;241m.\u001b[39mload(f)\n\u001b[0;32m     93\u001b[0m     \u001b[38;5;28;01mreturn\u001b[39;00m json_list\n\u001b[0;32m     94\u001b[0m \u001b[38;5;28;01mif\u001b[39;00m network_location \u001b[38;5;129;01mis\u001b[39;00m \u001b[38;5;129;01mnot\u001b[39;00m \u001b[38;5;28;01mNone\u001b[39;00m:\n",
      "File \u001b[1;32m~\\anaconda3\\envs\\CSA2\\Lib\\json\\__init__.py:293\u001b[0m, in \u001b[0;36mload\u001b[1;34m(fp, cls, object_hook, parse_float, parse_int, parse_constant, object_pairs_hook, **kw)\u001b[0m\n\u001b[0;32m    274\u001b[0m \u001b[38;5;28;01mdef\u001b[39;00m \u001b[38;5;21mload\u001b[39m(fp, \u001b[38;5;241m*\u001b[39m, \u001b[38;5;28mcls\u001b[39m\u001b[38;5;241m=\u001b[39m\u001b[38;5;28;01mNone\u001b[39;00m, object_hook\u001b[38;5;241m=\u001b[39m\u001b[38;5;28;01mNone\u001b[39;00m, parse_float\u001b[38;5;241m=\u001b[39m\u001b[38;5;28;01mNone\u001b[39;00m,\n\u001b[0;32m    275\u001b[0m         parse_int\u001b[38;5;241m=\u001b[39m\u001b[38;5;28;01mNone\u001b[39;00m, parse_constant\u001b[38;5;241m=\u001b[39m\u001b[38;5;28;01mNone\u001b[39;00m, object_pairs_hook\u001b[38;5;241m=\u001b[39m\u001b[38;5;28;01mNone\u001b[39;00m, \u001b[38;5;241m*\u001b[39m\u001b[38;5;241m*\u001b[39mkw):\n\u001b[0;32m    276\u001b[0m \u001b[38;5;250m    \u001b[39m\u001b[38;5;124;03m\"\"\"Deserialize ``fp`` (a ``.read()``-supporting file-like object containing\u001b[39;00m\n\u001b[0;32m    277\u001b[0m \u001b[38;5;124;03m    a JSON document) to a Python object.\u001b[39;00m\n\u001b[0;32m    278\u001b[0m \n\u001b[1;32m   (...)\u001b[0m\n\u001b[0;32m    291\u001b[0m \u001b[38;5;124;03m    kwarg; otherwise ``JSONDecoder`` is used.\u001b[39;00m\n\u001b[0;32m    292\u001b[0m \u001b[38;5;124;03m    \"\"\"\u001b[39;00m\n\u001b[1;32m--> 293\u001b[0m     \u001b[38;5;28;01mreturn\u001b[39;00m loads(fp\u001b[38;5;241m.\u001b[39mread(),\n\u001b[0;32m    294\u001b[0m         \u001b[38;5;28mcls\u001b[39m\u001b[38;5;241m=\u001b[39m\u001b[38;5;28mcls\u001b[39m, object_hook\u001b[38;5;241m=\u001b[39mobject_hook,\n\u001b[0;32m    295\u001b[0m         parse_float\u001b[38;5;241m=\u001b[39mparse_float, parse_int\u001b[38;5;241m=\u001b[39mparse_int,\n\u001b[0;32m    296\u001b[0m         parse_constant\u001b[38;5;241m=\u001b[39mparse_constant, object_pairs_hook\u001b[38;5;241m=\u001b[39mobject_pairs_hook, \u001b[38;5;241m*\u001b[39m\u001b[38;5;241m*\u001b[39mkw)\n",
      "File \u001b[1;32m~\\anaconda3\\envs\\CSA2\\Lib\\encodings\\cp1252.py:23\u001b[0m, in \u001b[0;36mIncrementalDecoder.decode\u001b[1;34m(self, input, final)\u001b[0m\n\u001b[0;32m     22\u001b[0m \u001b[38;5;28;01mdef\u001b[39;00m \u001b[38;5;21mdecode\u001b[39m(\u001b[38;5;28mself\u001b[39m, \u001b[38;5;28minput\u001b[39m, final\u001b[38;5;241m=\u001b[39m\u001b[38;5;28;01mFalse\u001b[39;00m):\n\u001b[1;32m---> 23\u001b[0m     \u001b[38;5;28;01mreturn\u001b[39;00m codecs\u001b[38;5;241m.\u001b[39mcharmap_decode(\u001b[38;5;28minput\u001b[39m,\u001b[38;5;28mself\u001b[39m\u001b[38;5;241m.\u001b[39merrors,decoding_table)[\u001b[38;5;241m0\u001b[39m]\n",
      "\u001b[1;31mUnicodeDecodeError\u001b[0m: 'charmap' codec can't decode byte 0x9d in position 172: character maps to <undefined>"
     ]
    }
   ],
   "source": [
    "#per website\n",
    "nr_tracker_domains_accept = []\n",
    "nr_tracker_domains_noop = []\n",
    "\n",
    "tracker_domains_accept = []\n",
    "tracker_domains_noop =[]\n",
    "\n",
    "## using Mozilla’s trackingprotection-tools library. to check wether the domain is a tracker\n",
    "def blocklisted_tracker(domain):\n",
    "    return trackingprotection_tools.DisconnectParser('services.json').should_block(domain)\n",
    "\n",
    "\n",
    "def fill_tracker_domains_cookies(noop_list, accept_list):\n",
    "    for crawl_accept in accept_list:\n",
    "        distinct_cookies = []\n",
    "        if crawl_accept['cookies']:\n",
    "            for cookie in crawl_accept['cookies']:\n",
    "                if blocklisted_tracker(cookie['domain']):\n",
    "                    if cookie['domain'] not in distinct_cookies:\n",
    "                        distinct_cookies.append(cookie['domain']) \n",
    "        tracker_domains_accept.append(distinct_cookies)\n",
    "        nr_tracker_domains_accept.append(len(distinct_cookies))\n",
    "    for crawl_noop in noop_list:\n",
    "        distinct_cookies = []\n",
    "        if crawl_noop['cookies']:\n",
    "            for cookie in crawl_noop['cookies']:\n",
    "                if blocklisted_tracker(cookie['domain']):\n",
    "                    if cookie['domain'] not in distinct_cookies:\n",
    "                        distinct_cookies.append(cookie['domain']) \n",
    "        tracker_domains_noop.append(distinct_cookies)\n",
    "        nr_tracker_domains_noop.append(len(distinct_cookies))\n",
    "\n",
    "\n",
    "#fill_tracker_domains(noop_list, accept_list)  \n",
    "fill_tracker_domains_cookies(noop_list, accept_list)\n",
    "\n",
    "\n",
    "\n",
    "distinct_tracker_domain_boxplot = { 'Crawl-accept': nr_tracker_domains_accept, 'Crawl-noop': nr_tracker_domains_noop}\n",
    "\n",
    "print (nr_tracker_domains_accept)\n",
    "print(nr_tracker_domains_noop)\n",
    "\n",
    "df = pd.DataFrame(distinct_tracker_domain_boxplot)\n",
    "df.plot(kind='box')"
   ]
  },
  {
   "cell_type": "markdown",
   "id": "fdcf77ce-db42-4ce0-8ad1-a02e39fd1911",
   "metadata": {},
   "source": [
    "##### e. Number of distinct tracker entities/companies"
   ]
  },
  {
   "cell_type": "code",
   "execution_count": 10,
   "id": "cb779eeb-9db3-4cea-b077-308847b15b7d",
   "metadata": {},
   "outputs": [
    {
     "name": "stdout",
     "output_type": "stream",
     "text": [
      "[]\n",
      "[]\n"
     ]
    },
    {
     "data": {
      "text/plain": [
       "<Axes: >"
      ]
     },
     "execution_count": 10,
     "metadata": {},
     "output_type": "execute_result"
    },
    {
     "data": {
      "image/png": "[encoded data removed]",
      "text/plain": [
       "<Figure size 640x480 with 1 Axes>"
      ]
     },
     "metadata": {},
     "output_type": "display_data"
    }
   ],
   "source": [
    "#per website\n",
    "nr_distinct_tracker_entities_accept = []\n",
    "nr_distinct_tracker_entities_noop = []\n",
    "\n",
    "\n",
    "def fill_distinct_entities(domains_accept, domains_noop):\n",
    "    for website in domains_accept:\n",
    "        distinct_entities = []\n",
    "        for cookie in website:\n",
    "            if cookie in entity_list:\n",
    "                if entity_list[cookie]['displayName'] not in distinct_entities:\n",
    "                    distinct_entities.append(entity_list[cookie]['displayName'])\n",
    "        nr_distinct_tracker_entities_accept.append(len(distinct_entities))\n",
    "    for website in domains_noop:\n",
    "        distinct_entities = []\n",
    "        for cookie in website:\n",
    "            if cookie in entity_list:\n",
    "                if entity_list[cookie]['displayName'] not in distinct_entities:\n",
    "                    distinct_entities.append(entity_list[cookie]['displayName'])\n",
    "        nr_distinct_tracker_entities_noop.append(len(distinct_entities))\n",
    "    \n",
    "\n",
    "fill_distinct_entities(tracker_domains_accept,tracker_domains_noop)\n",
    "\n",
    "\n",
    "distinct_entity_domain_boxplot = { 'Crawl-accept': nr_distinct_tracker_entities_accept, 'Crawl-noop': nr_distinct_tracker_entities_noop}\n",
    "\n",
    "\n",
    "print (nr_distinct_tracker_entities_accept)\n",
    "print (nr_distinct_tracker_entities_noop)\n",
    "\n",
    "df = pd.DataFrame(distinct_entity_domain_boxplot)\n",
    "df.plot(kind='box')"
   ]
  },
  {
   "cell_type": "markdown",
   "id": "f2cb3fbe-3a71-4191-8c86-53883cdf6047",
   "metadata": {},
   "source": [
    "### 3: Comparison Crawl-accept vs Crawl-noop (table)"
   ]
  },
  {
   "cell_type": "code",
   "execution_count": 11,
   "id": "fbf4ab9d-3be4-4a8b-ac3b-805d40905b65",
   "metadata": {},
   "outputs": [
    {
     "data": {
      "text/html": [
       "<div>\n",
       "<style scoped>\n",
       "    .dataframe tbody tr th:only-of-type {\n",
       "        vertical-align: middle;\n",
       "    }\n",
       "\n",
       "    .dataframe tbody tr th {\n",
       "        vertical-align: top;\n",
       "    }\n",
       "\n",
       "    .dataframe thead tr th {\n",
       "        text-align: left;\n",
       "    }\n",
       "\n",
       "    .dataframe thead tr:last-of-type th {\n",
       "        text-align: right;\n",
       "    }\n",
       "</style>\n",
       "<table border=\"1\" class=\"dataframe\">\n",
       "  <thead>\n",
       "    <tr>\n",
       "      <th></th>\n",
       "      <th colspan=\"3\" halign=\"left\">Crawl-accept</th>\n",
       "      <th colspan=\"3\" halign=\"left\">Crawl-noop</th>\n",
       "    </tr>\n",
       "    <tr>\n",
       "      <th>Metric</th>\n",
       "      <th>Min</th>\n",
       "      <th>Median</th>\n",
       "      <th>Max</th>\n",
       "      <th>Min</th>\n",
       "      <th>Median</th>\n",
       "      <th>Max</th>\n",
       "    </tr>\n",
       "    <tr>\n",
       "      <th></th>\n",
       "      <th></th>\n",
       "      <th></th>\n",
       "      <th></th>\n",
       "      <th></th>\n",
       "      <th></th>\n",
       "      <th></th>\n",
       "    </tr>\n",
       "  </thead>\n",
       "  <tbody>\n",
       "    <tr>\n",
       "      <th>Page load time</th>\n",
       "      <td>2.107</td>\n",
       "      <td>3.182</td>\n",
       "      <td>9.312</td>\n",
       "      <td>2.098</td>\n",
       "      <td>3.163</td>\n",
       "      <td>10.465</td>\n",
       "    </tr>\n",
       "    <tr>\n",
       "      <th>Number of requests</th>\n",
       "      <td>0.000</td>\n",
       "      <td>0.000</td>\n",
       "      <td>0.000</td>\n",
       "      <td>0.000</td>\n",
       "      <td>0.000</td>\n",
       "      <td>0.000</td>\n",
       "    </tr>\n",
       "    <tr>\n",
       "      <th>Number of distinct third parties</th>\n",
       "      <td>0.000</td>\n",
       "      <td>0.000</td>\n",
       "      <td>7.000</td>\n",
       "      <td>0.000</td>\n",
       "      <td>0.000</td>\n",
       "      <td>6.000</td>\n",
       "    </tr>\n",
       "    <tr>\n",
       "      <th>Number of distinct tracker domains</th>\n",
       "      <td>0.000</td>\n",
       "      <td>0.000</td>\n",
       "      <td>0.000</td>\n",
       "      <td>0.000</td>\n",
       "      <td>0.000</td>\n",
       "      <td>0.000</td>\n",
       "    </tr>\n",
       "    <tr>\n",
       "      <th>Number of distinct tracker entities/companies</th>\n",
       "      <td>0.000</td>\n",
       "      <td>0.000</td>\n",
       "      <td>0.000</td>\n",
       "      <td>0.000</td>\n",
       "      <td>0.000</td>\n",
       "      <td>0.000</td>\n",
       "    </tr>\n",
       "  </tbody>\n",
       "</table>\n",
       "</div>"
      ],
      "text/plain": [
       "                                              Crawl-accept                \\\n",
       "Metric                                                 Min Median    Max   \n",
       "                                                                           \n",
       "Page load time                                       2.107  3.182  9.312   \n",
       "Number of requests                                   0.000  0.000  0.000   \n",
       "Number of distinct third parties                     0.000  0.000  7.000   \n",
       "Number of distinct tracker domains                   0.000  0.000  0.000   \n",
       "Number of distinct tracker entities/companies        0.000  0.000  0.000   \n",
       "\n",
       "                                              Crawl-noop                 \n",
       "Metric                                               Min Median     Max  \n",
       "                                                                         \n",
       "Page load time                                     2.098  3.163  10.465  \n",
       "Number of requests                                 0.000  0.000   0.000  \n",
       "Number of distinct third parties                   0.000  0.000   6.000  \n",
       "Number of distinct tracker domains                 0.000  0.000   0.000  \n",
       "Number of distinct tracker entities/companies      0.000  0.000   0.000  "
      ]
     },
     "execution_count": 11,
     "metadata": {},
     "output_type": "execute_result"
    }
   ],
   "source": [
    "#data\n",
    "nr_request_data_noop = []\n",
    "nr_request_data_accept = [] \n",
    "\n",
    "def calc_median(data):\n",
    "    if data == []:\n",
    "        return 0\n",
    "    else:\n",
    "        return statistics.median(data)\n",
    "    \n",
    "\n",
    "page_load_time = [min(load_time_accept, default=0),calc_median(load_time_accept),max(load_time_accept,default=0),min(load_time_noop, default=0)\n",
    "                  ,calc_median(load_time_noop),max(load_time_noop, default=0)]\n",
    "                  \n",
    "\n",
    "number_of_requests= [min(nr_request_data_accept,default=0), calc_median(nr_request_data_accept),max(nr_request_data_accept,default=0)\n",
    "                     ,min(nr_request_data_noop,default=0),calc_median(nr_request_data_noop),max(nr_request_data_noop, default=0)]\n",
    "                     \n",
    "\n",
    "number_of_distinct_third_parties= [min(nr_distinct_third_party_accept,default=0),calc_median(nr_distinct_third_party_accept)\n",
    "                                   ,max(nr_distinct_third_party_accept, default=0),min(nr_distinct_third_party_noop,default=0),\n",
    "                                   calc_median(nr_distinct_third_party_noop),max(nr_distinct_third_party_noop, default=0)]\n",
    "                                  \n",
    "\n",
    "number_of_distinct_tracker_domains = [min(nr_tracker_domains_accept,default=0),calc_median(nr_tracker_domains_accept),\n",
    "                                      max(nr_tracker_domains_accept, default=0),min(nr_tracker_domains_noop, default=0),\n",
    "                                      calc_median(nr_tracker_domains_noop),max(nr_tracker_domains_noop, default=0)]\n",
    "                                      \n",
    "\n",
    "number_ofdistinct_tracker_companies = [min(nr_distinct_tracker_entities_accept,default=0),calc_median(nr_distinct_tracker_entities_accept)\n",
    "                                       ,max(nr_distinct_tracker_entities_accept, default=0), min(nr_distinct_tracker_entities_noop, default=0)\n",
    "                                       ,calc_median(nr_distinct_tracker_entities_noop),max(nr_distinct_tracker_entities_noop, default=0)]\n",
    "\n",
    "\n",
    "comparison_data = [page_load_time,number_of_requests,number_of_distinct_third_parties,number_of_distinct_tracker_domains,number_ofdistinct_tracker_companies]\n",
    "df = pd.DataFrame(comparison_data,\n",
    "                  index=pd.Index(['Page load time', 'Number of requests', 'Number of distinct third parties', 'Number of distinct tracker domains'\n",
    "                                  , 'Number of distinct tracker entities/companies' ], name=''),\n",
    "                  columns=pd.MultiIndex.from_product([['Crawl-accept', 'Crawl-noop'],['Min', 'Median', 'Max']], names=['', 'Metric']))\n",
    "\n",
    "df"
   ]
  },
  {
   "cell_type": "markdown",
   "id": "2a116afd-fbc1-4833-89fc-6bf8166fb223",
   "metadata": {},
   "source": [
    "### 4: Table of the Ten most prevalent third-party domains \n",
    "##### (based on the number of distinct websites where the third party is present)"
   ]
  },
  {
   "cell_type": "code",
   "execution_count": 12,
   "id": "c0725419-1451-4903-9e92-0a1e05a100fc",
   "metadata": {},
   "outputs": [
    {
     "name": "stdout",
     "output_type": "stream",
     "text": [
      "                    Crawl-accept  Crawl-noop isTracker?\n",
      "Third-party domain                                     \n",
      ".facebook.com                  1           0         No\n",
      ".google.com                    1           1         No\n",
      ".instagram.com                 1           0         No\n",
      ".linkedin.com                  1           1         No\n",
      ".www.linkedin.com              1           1         No\n",
      ".microsoft.com                 1           1         No\n",
      "www.microsoft.com              1           1         No\n",
      ".netflix.com                   1           1         No\n",
      ".twitter.com                   1           1         No\n",
      ".wikipedia.org                 1           1         No\n"
     ]
    }
   ],
   "source": [
    "cookies = {}\n",
    "# domain : (nr. of occurrences in accept, nr. of occurrences in noop)\n",
    "\n",
    "is_tracker = {}\n",
    "# domain : \"Yes\"/\"No\"\n",
    "\n",
    "def increment_accept(tuple):\n",
    "    return ((tuple[0]+1, tuple[1]))\n",
    "\n",
    "def increment_noop(tuple):\n",
    "    return ((tuple[0], tuple[1]+1))\n",
    "\n",
    "def add_distinct_cookies(list, mode):\n",
    "    for entry in list:\n",
    "        if entry['cookies']:\n",
    "            entry_cookies = []\n",
    "            for cookie in entry['cookies']:\n",
    "                if cookie['domain'] not in entry_cookies:\n",
    "                    if mode == 'accept':\n",
    "                        cookies[cookie['domain']] = increment_accept(cookies.get(cookie['domain'], (0,0)))\n",
    "                    elif mode == 'noop':\n",
    "                        cookies[cookie['domain']] = increment_noop(cookies.get(cookie['domain'], (0,0)))\n",
    "                    entry_cookies.append(cookie['domain'])\n",
    "\n",
    "add_distinct_cookies(accept_list, 'accept')\n",
    "add_distinct_cookies(noop_list, 'noop')\n",
    "\n",
    "top10 = sorted(cookies.items(), key=lambda x:-x[1][0])[:10]\n",
    "\n",
    "with open(\"entities.json\", \"r\", encoding=\"utf8\") as tracker_file:\n",
    "    file_contents = tracker_file.read()\n",
    "trackers = json.loads(file_contents)['entities']\n",
    "for tracker in trackers:\n",
    "    if trackers[tracker]['properties']:\n",
    "        for domain in trackers[tracker]['properties']:\n",
    "            for item in top10:\n",
    "                if domain == item[0]:\n",
    "                    is_tracker[domain] = \"Yes\"\n",
    "\n",
    "empty_third_party_table = {'Third-party domain' : [x[0] for x in top10], \n",
    "                           'Crawl-accept':[0]*len(top10),\n",
    "                           'Crawl-noop': [0]*len(top10),\n",
    "                           'isTracker?': [\"No\"]*len(top10)}\n",
    "\n",
    "# Disable chained assignment warnings\n",
    "pd.options.mode.chained_assignment = None\n",
    "\n",
    "third_party_table = pd.DataFrame(empty_third_party_table).set_index('Third-party domain')\n",
    "for entry in top10:\n",
    "    third_party_table['Crawl-accept'][entry[0]] = entry[1][0]\n",
    "    third_party_table['Crawl-noop'][entry[0]] = entry[1][1]\n",
    "    third_party_table['isTracker?'][entry[0]] = is_tracker.get(entry[0], \"No\")\n",
    "\n",
    "print(third_party_table)\n",
    "    "
   ]
  },
  {
   "cell_type": "markdown",
   "id": "45c7e291-f1b8-4ddf-a88d-8e3af9b0a6dd",
   "metadata": {},
   "source": [
    "### 5: Scatter plot of:\n",
    "##### Y: Number of distinct tracker domains\n",
    "##### VS\n",
    "##### X: Website’s Tranco rank\n",
    "###### (for each crawl)"
   ]
  },
  {
   "cell_type": "code",
   "execution_count": 13,
   "id": "4aaa6992-72dd-4c2f-b2da-395fefa53954",
   "metadata": {},
   "outputs": [
    {
     "data": {
      "image/png": "[encoded data removed]",
      "text/plain": [
       "<Figure size 640x480 with 1 Axes>"
      ]
     },
     "metadata": {},
     "output_type": "display_data"
    }
   ],
   "source": [
    "tranco = {}\n",
    "distinct_trackers = {}\n",
    "\n",
    "def check_if_tracker(cookie_domain):\n",
    "    for tracker in trackers:\n",
    "        if trackers[tracker]['properties']:\n",
    "            for domain in trackers[tracker]['properties']:\n",
    "                if domain == cookie_domain:\n",
    "                    return True\n",
    "    return False    \n",
    "\n",
    "for entry in accept_list:\n",
    "    distinct_trackers[entry['domain']] = 0\n",
    "    if entry['cookies']:\n",
    "        entry_cookies = []\n",
    "        for cookie in entry['cookies']:\n",
    "            if cookie['domain'] not in entry_cookies:\n",
    "                entry_cookies.append(cookie['domain'])\n",
    "                if check_if_tracker(cookie['domain']):\n",
    "                    distinct_trackers[entry['domain']] += 1\n",
    "    \n",
    "import csv   \n",
    "with open('top-1m.csv', 'r') as csvfile:\n",
    "    reader = csv.reader(csvfile)\n",
    "    for row in reader:\n",
    "        for entry in accept_list:\n",
    "            if row[1] == entry['domain']:\n",
    "                tranco[entry['domain']] = row[0]\n",
    "    \n",
    "tranco_tracker = []\n",
    "for entry in tranco:\n",
    "    tranco_tracker.append([int(tranco[entry]), int(distinct_trackers[entry])])\n",
    "    \n",
    "df = pd.DataFrame(tranco_tracker, columns=['Tranco rank', 'Number of distinct tracker domains'])\n",
    "ax1 = df.plot.scatter(x='Tranco rank', y='Number of distinct tracker domains')"
   ]
  },
  {
   "cell_type": "markdown",
   "id": "3e5ce925-2690-46b4-aa14-833960878547",
   "metadata": {},
   "source": [
    "### 6: Table of the Top ten tracker entities (companies) and their prevalence\n",
    "##### (based on the number of distinct websites where the entity is present). Similar to the table in 4, but should only contain tracker entities)."
   ]
  },
  {
   "cell_type": "code",
   "execution_count": 14,
   "id": "934b31d3-78ed-47b1-bc72-7243df00c4e2",
   "metadata": {},
   "outputs": [
    {
     "name": "stdout",
     "output_type": "stream",
     "text": [
      "Empty DataFrame\n",
      "Columns: [Number of distinct websites]\n",
      "Index: []\n"
     ]
    }
   ],
   "source": [
    "tracker_entities = {}\n",
    "\n",
    "with open(\"domain_map.json\", \"r\", encoding=\"utf8\") as domain_map_file:\n",
    "    domain_map = json.loads(domain_map_file.read())\n",
    "    for cookie in cookies:\n",
    "        if cookie in domain_map:\n",
    "            tracker_entities[domain_map[cookie]['displayName']] = tracker_entities.get(domain_map[cookie]['displayName'], 0) + 1\n",
    "\n",
    "top10_trackers = sorted(tracker_entities.items(), key=lambda x:-x[1])[:10]\n",
    "    \n",
    "empty_tracker_table = {'Entity name' : [x[0] for x in top10_trackers],\n",
    "                       'Number of distinct websites': [0]*len(top10_trackers)}\n",
    "tracker_table = pd.DataFrame(empty_tracker_table).set_index('Entity name')\n",
    "for entry in top10_trackers:\n",
    "    tracker_table['Number of distinct websites'][entry[0]] = entry[1]\n",
    "    \n",
    "print(tracker_table)"
   ]
  },
  {
   "cell_type": "markdown",
   "id": "77d9b0a9-79ef-42cd-80a3-53772fbe4788",
   "metadata": {},
   "source": [
    "### 7: Find the three cookies with the longest lifespans **for each crawl**\n",
    "##### Add a separate table for each crawl having the following columns (see assignment). Only include the first 5 characters of the Value attribute."
   ]
  },
  {
   "cell_type": "code",
   "execution_count": 15,
   "id": "01caf393-1f2e-4fc4-aea2-3980aea3f648",
   "metadata": {},
   "outputs": [
    {
     "name": "stdout",
     "output_type": "stream",
     "text": [
      "        Value          Domain Path              Expires  Size HttpOnly Secure  \\\n",
      "Name                                                                            \n",
      "mid     ZH35q  .instagram.com    /  2515-03-21 07:52:20    28    False   True   \n",
      "ig_did  22D84  .instagram.com    /  2515-03-21 07:52:20    36     True   True   \n",
      "dsca    anony    .netflix.com    /  2515-03-21 07:45:40     9    False  False   \n",
      "\n",
      "       SameSite  \n",
      "Name             \n",
      "mid         Lax  \n",
      "ig_did      Lax  \n",
      "dsca        Lax  \n",
      "                Value             Domain Path              Expires  Size  \\\n",
      "Name                                                                       \n",
      "G_ENABLED_IDPS  googl  .www.linkedin.com    /  2515-03-21 08:14:50     6   \n",
      "CONSENT         PENDI        .google.com    /  2515-03-21 07:31:50    11   \n",
      "guest_id        v1%3A       .twitter.com    /  2515-02-09 07:57:10    23   \n",
      "\n",
      "               HttpOnly Secure SameSite  \n",
      "Name                                     \n",
      "G_ENABLED_IDPS    False  False      Lax  \n",
      "CONSENT           False   True      Lax  \n",
      "guest_id          False   True     None  \n"
     ]
    }
   ],
   "source": [
    "import datetime\n",
    "\n",
    "def print_tables(entry_list):\n",
    "    empty_top3_cookie_data_table = {'Name' : [\"\"],\n",
    "                                    'Value' : [\"\"],\n",
    "                                    'Domain' : [\"\"],\n",
    "                                    'Path' : [\"\"],\n",
    "                                    'Expires' : [\"\"],\n",
    "                                    'Size' : [0],\n",
    "                                    'HttpOnly' : [\"\"],\n",
    "                                    'Secure' : [\"\"],\n",
    "                                    'SameSite' : [\"\"],\n",
    "                                    }\n",
    "    top3_cookie_data_table = pd.DataFrame(empty_top3_cookie_data_table).set_index('Name')\n",
    "    for entry in entry_list:\n",
    "        top3_cookie_data_table.sort_values(by=['Expires'], ascending=False, inplace=True)\n",
    "        if entry['cookies']:\n",
    "            empty_cookie_data_table = {'Name' : [cookie['name'] for cookie in entry['cookies']],\n",
    "                                    'Value' : [\"\"]*len(entry['cookies']),\n",
    "                                    'Domain' : [\"\"]*len(entry['cookies']),\n",
    "                                    'Path' : [\"\"]*len(entry['cookies']),\n",
    "                                    'Expires' : [\"\"]*len(entry['cookies']),\n",
    "                                    'Size' : [0]*len(entry['cookies']),\n",
    "                                    'HttpOnly' : [\"\"]*len(entry['cookies']),\n",
    "                                    'Secure' : [\"\"]*len(entry['cookies']),\n",
    "                                    'SameSite' : [\"\"]*len(entry['cookies']),\n",
    "                                    }\n",
    "            cookie_data_table = pd.DataFrame(empty_cookie_data_table).set_index('Name')\n",
    "            for cookie in entry['cookies']:\n",
    "                cookie_data_table['Value'][cookie['name']]      = cookie['value'][:5]\n",
    "                cookie_data_table['Domain'][cookie['name']]     = cookie['domain']\n",
    "                cookie_data_table['Path'][cookie['name']]       = cookie['path']\n",
    "                if isinstance(cookie['expiry'], int):\n",
    "                    secs = int(cookie['expiry']) / 100\n",
    "                    cookie_data_table['Expires'][cookie['name']]    = datetime.datetime.fromtimestamp(secs).strftime('%Y-%m-%d %H:%M:%S')\n",
    "                cookie_data_table['Size'][cookie['name']]       = len(cookie['value'])\n",
    "                cookie_data_table['HttpOnly'][cookie['name']]   = cookie['httpOnly']\n",
    "                cookie_data_table['Secure'][cookie['name']]     = cookie['secure']\n",
    "                cookie_data_table['SameSite'][cookie['name']]   = cookie['sameSite']\n",
    "            cookie_data_table.sort_values(by=['Expires'], ascending=False, inplace=True)\n",
    "            top3_cookie_data_table = pd.concat([top3_cookie_data_table.head(3), cookie_data_table.head(3)])\n",
    "    print(top3_cookie_data_table.head(3))\n",
    "\n",
    "print_tables(accept_list)\n",
    "print_tables(noop_list)\n"
   ]
  },
  {
   "cell_type": "markdown",
   "id": "dacdcd39-1207-4194-a02a-8b9d55748cb9",
   "metadata": {},
   "source": [
    "### 8: Find the three requests with the most cookies **for each crawl**"
   ]
  },
  {
   "cell_type": "code",
   "execution_count": 16,
   "id": "5758aa8d-6112-41ff-9f9d-915e27910175",
   "metadata": {},
   "outputs": [
    {
     "name": "stdout",
     "output_type": "stream",
     "text": [
      "    Request hostname        Website  Number of cookies First-party requests\n",
      "0  www.microsoft.com  microsoft.com                 23                  Yes\n",
      "1    www.netflix.com    netflix.com                 10                  Yes\n",
      "2    www.youtube.com    youtube.com                  7                  Yes\n",
      "[('www.microsoft.com', 'microsoft.com', 12, 'Yes'), ('www.linkedin.com', 'linkedin.com', 9, 'Yes'), ('www.netflix.com', 'netflix.com', 6, 'Yes')]\n"
     ]
    }
   ],
   "source": [
    "#creates a sorted list (descending, nr of cookies) of tuples with the domain and number of cookies\n",
    "def find_most_cookies(websites):\n",
    "    result = []\n",
    "    for site in websites:\n",
    "        result.append( (f\"www.{site['domain']}\", site['domain'], len(site['cookies']), 'Yes') )\n",
    "    sorted_list = sorted(result, key=lambda x:x[2], reverse=True)\n",
    "    return sorted_list[:3]\n",
    "        \n",
    "cookies_accept = find_most_cookies(accept_list)\n",
    "df_accept = pd.DataFrame(cookies_accept, columns=[\"Request hostname\", \"Website\", \"Number of cookies\", \"First-party requests\"])\n",
    "print(df_accept)\n",
    "cookies_noop = find_most_cookies(noop_list)\n",
    "df_noop = pd.DataFrame(cookies_noop, columns=[\"Request hostname\", \"Website\", \"Number of cookies\", \"First-party requests\"])\n",
    "print(df_noop)\n"
   ]
  },
  {
   "cell_type": "markdown",
   "id": "8f5cfd38-f3a7-4506-8ec2-f559d832ad6d",
   "metadata": {},
   "source": [
    "### 9: Identify ten most common cross-domain HTTP redirection pairs \n",
    "#### that involve a tracker domain either in the source or the target(or both)"
   ]
  },
  {
   "cell_type": "code",
   "execution_count": null,
   "id": "bbfdbed0-170f-4e91-bba0-cf27f593b78c",
   "metadata": {},
   "outputs": [],
   "source": [
    "# the current version of our crawler does not support this operation"
   ]
  },
  {
   "cell_type": "markdown",
   "id": "8c0054c1-459a-4670-b33e-c8439d78bfbf",
   "metadata": {},
   "source": [
    "### 10: Capture the Images drawn by the canvas fingerprinting scripts\n",
    "#### Create a table (see assignment)"
   ]
  },
  {
   "cell_type": "code",
   "execution_count": 33,
   "id": "c03c118e-c260-4e4e-8ae6-9622a14e39ba",
   "metadata": {},
   "outputs": [],
   "source": [
    "#saves a data url as image to the specified path\n",
    "def save_image(data_url, path, name):\n",
    "    output_file = f'{path}{name}.png'\n",
    "    data = data_url.split(',')[1]\n",
    "    image_data = base64.b64decode(data)\n",
    "    image = Image.open(BytesIO(image_data))\n",
    "    if image.mode != \"RGBA\":\n",
    "        image = image.convert(\"RGBA\")\n",
    "    image.save(output_file, \"PNG\")\n",
    "\n",
    "\n",
    "#check if a website is using fingerprinting, if yes, return the fingerprint, else None\n",
    "def check_fingerprint (accept, noop):\n",
    "    fingerprint = None\n",
    "    if accept['isCanvasFingerprinting']:\n",
    "        fingerprint = accept['toDataUrl']\n",
    "    elif noop['isCanvasFingerprinting']:\n",
    "        fingerprint = noop['toDataUrl']\n",
    "    return fingerprint\n",
    "\n",
    "\n",
    "#fill in the  crawl failure table\n",
    "def save_fingerprint_images(website_pairs, path):\n",
    "    for accept, noop in website_pairs:\n",
    "        #if website uses finger printing, add it to the table\n",
    "        fingerprint = check_fingerprint(accept, noop)\n",
    "        if fingerprint:\n",
    "            save_image(fingerprint, path, accept['domain'])\n",
    "\n",
    "            \n",
    "\n",
    "            \n",
    "##create a folder fingerprints in working directory and store all fingerprints there\n",
    "folder_name = 'fingerprints'\n",
    "os.makedirs(folder_name, exist_ok=True)\n",
    "fp_path = f'./{folder_name}/'\n",
    "website_pairs = zip(accept_list,noop_list)\n",
    "save_fingerprint_images(website_pairs, fp_path)\n",
    "\n"
   ]
  }
 ],
 "metadata": {
  "kernelspec": {
   "display_name": "Python 3 (ipykernel)",
   "language": "python",
   "name": "python3"
  },
  "language_info": {
   "codemirror_mode": {
    "name": "ipython",
    "version": 3
   },
   "file_extension": ".py",
   "mimetype": "text/x-python",
   "name": "python",
   "nbconvert_exporter": "python",
   "pygments_lexer": "ipython3",
   "version": "3.11.3"
  }
 },
 "nbformat": 4,
 "nbformat_minor": 5
}
