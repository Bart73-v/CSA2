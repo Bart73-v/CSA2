{
 "cells": [
  {
   "cell_type": "code",
   "execution_count": 2,
   "id": "a6524501-e6ec-47eb-acf8-13950522453a",
   "metadata": {},
   "outputs": [],
   "source": [
    "import json\n",
    "from datetime import datetime\n",
    "#!pip install tld\n",
    "#!pip install dateparser\n",
    "#!pip install geoip2\n",
    "import dateparser\n",
    "import pytz\n",
    "import geoip2.database \n",
    "import os\n",
    "import pandas as pd\n",
    "from tld import get_fld\n",
    "import matplotlib.pyplot as plt\n"
   ]
  },
  {
   "attachments": {},
   "cell_type": "markdown",
   "id": "7a5de760-4ced-47a1-ab7c-356db3263341",
   "metadata": {},
   "source": [
    "### Datasets"
   ]
  },
  {
   "cell_type": "code",
   "execution_count": 33,
   "id": "27850505-4786-4da3-97cb-a008b8e4a77c",
   "metadata": {},
   "outputs": [],
   "source": [
    "\n",
    "directory = 'crawl_data'\n",
    "\n",
    "#list of jsons paths\n",
    "json_list = []\n",
    "\n",
    "#filtered noop and accept\n",
    "noop_list = []\n",
    "accept_list = []\n",
    "\n",
    "\n",
    "\n",
    "\n",
    "#iterate over every json file and put their path into the json_list\n",
    "for filename in os.listdir(directory):\n",
    "    f = os.path.join(directory, filename)\n",
    "    if os.path.isfile(f):\n",
    "        json_list.append(f)\n",
    "\n",
    "for crawl in json_list:\n",
    "    #load the json\n",
    "    with open(crawl, \"r\") as data:\n",
    "        crawl_data = json.load(data)\n",
    "    #check wether it is an 'accept'or a 'noop'\n",
    "    if 'accept' in crawl:\n",
    "        accept_list.append(crawl_data)\n",
    "    elif 'noop' in crawl:\n",
    "        noop_list.append(crawl_data)\n",
    "\n",
    "##Create crawl -accept -noop pairs\n",
    "# tuple pairs of (accept, noop) per website\n",
    "website_pairs = zip(accept_list,noop_list)\n"
   ]
  },
  {
   "cell_type": "code",
   "execution_count": null,
   "id": "29b7684a-1b36-45c5-acc6-a0fcc5ff81ea",
   "metadata": {},
   "outputs": [],
   "source": []
  },
  {
   "attachments": {},
   "cell_type": "markdown",
   "id": "71be6056-bc94-4651-ba20-c1ceb77082f2",
   "metadata": {},
   "source": [
    "### 1: Number of crawl failures"
   ]
  },
  {
   "cell_type": "code",
   "execution_count": 5,
   "id": "5e059b5d-94fa-44da-bc1d-944ea13f9417",
   "metadata": {},
   "outputs": [
    {
     "name": "stdout",
     "output_type": "stream",
     "text": [
      "                     Crawl-accept  Crawl-noop\n",
      "Error type                                   \n",
      "Page load timeout               0           0\n",
      "DNS error                       1           1\n",
      "Consent click error             1           0\n"
     ]
    }
   ],
   "source": [
    "#create a table for the crawl failures\n",
    "empty_failure_table = { 'Error type': ['Page load timeout','DNS error','Consent click error'],\n",
    "         'Crawl-accept':[0,0,0],\n",
    "         'Crawl-noop':[0,0,0]}\n",
    "\n",
    "failure_table  = pd.DataFrame(empty_failure_table).set_index('Error type')\n",
    "\n",
    "#check if there was a failure\n",
    "def check_failure (data, crawl_type):\n",
    "    if data['consentClickError']:\n",
    "        failure_table[crawl_type]['Consent click error'] =+ 1\n",
    "    elif data['pageLoadTimeout']:\n",
    "        failure_table[crawl_type]['Page load timeout'] =+ 1\n",
    "    elif data['dnsError']:\n",
    "        failure_table[crawl_type]['DNS error'] =+ 1\n",
    "\n",
    "\n",
    "#fill in the  crawl failure table\n",
    "def fill_table (website_pairs , table):\n",
    "    #loop throught\n",
    "    for accept,noop in website_pairs:\n",
    "            #check if there was a failure\n",
    "            check_failure(accept,'Crawl-accept' )\n",
    "            check_failure(noop, 'Crawl-noop')\n",
    "\n",
    "            \n",
    "##fill in the failure table\n",
    "fill_table(website_pairs,failure_table)\n",
    "\n",
    "print (failure_table)\n",
    "    "
   ]
  },
  {
   "attachments": {},
   "cell_type": "markdown",
   "id": "b5bff836-c35a-4239-8220-096c36e25877",
   "metadata": {},
   "source": [
    "###  2: Comparison Crawl-accept vs Crawl-noop (box plot)\n"
   ]
  },
  {
   "cell_type": "code",
   "execution_count": 44,
   "id": "e9f429eb-190e-4fbc-ab3f-c417fa3bf722",
   "metadata": {},
   "outputs": [],
   "source": []
  },
  {
   "attachments": {},
   "cell_type": "markdown",
   "id": "584a949b-191e-4ce9-ad03-21e3e03426c6",
   "metadata": {},
   "source": [
    "##### a. Page load time"
   ]
  },
  {
   "cell_type": "code",
   "execution_count": 6,
   "id": "87d5451a-3ad4-4148-8e6b-83d61c96a121",
   "metadata": {},
   "outputs": [
    {
     "name": "stdout",
     "output_type": "stream",
     "text": [
      "[2264, 0, 1967]\n",
      "[2283, 0, 1969]\n"
     ]
    },
    {
     "data": {
      "text/plain": [
       "<Axes: >"
      ]
     },
     "execution_count": 6,
     "metadata": {},
     "output_type": "execute_result"
    },
    {
     "data": {
      "image/png": "[encoded data removed]",
      "text/plain": [
       "<Figure size 640x480 with 1 Axes>"
      ]
     },
     "metadata": {},
     "output_type": "display_data"
    }
   ],
   "source": [
    "load_time_accept = []\n",
    "load_time_noop = []\n",
    "\n",
    "def page_load_time(data):\n",
    "    time = data['pageLoadEndTimestamp'] - data['pageLoadStartTimestamp'] \n",
    "    return (time)\n",
    "\n",
    "def fill_page_load_lists(accept_list,noop_list ):\n",
    "    for crawl_accept in accept_list:\n",
    "        load_time_accept.append(page_load_time(crawl_accept))\n",
    "    for crawl_noop in noop_list:\n",
    "        load_time_noop.append(page_load_time(crawl_noop))\n",
    "\n",
    "\n",
    "fill_page_load_lists(accept_list,noop_list )\n",
    "print (load_time_accept )\n",
    "print (load_time_noop )\n",
    "page_load_time_boxplot = { 'Crawl-accept': load_time_accept , 'Crawl-noop': load_time_noop}\n",
    "\n",
    "\n",
    "df = pd.DataFrame(page_load_time_boxplot)\n",
    "df.plot(kind='box')\n"
   ]
  },
  {
   "attachments": {},
   "cell_type": "markdown",
   "id": "f0c89bdf-5ae3-48af-a911-06ab8aece49d",
   "metadata": {},
   "source": [
    "##### b. Number of requests\n"
   ]
  },
  {
   "cell_type": "code",
   "execution_count": 7,
   "id": "37868558-b13e-435a-b57d-18e4fa05cc80",
   "metadata": {},
   "outputs": [
    {
     "name": "stdout",
     "output_type": "stream",
     "text": [
      "[1, 0, 21]\n",
      "[1, 0, 6]\n"
     ]
    },
    {
     "data": {
      "text/plain": [
       "<Axes: >"
      ]
     },
     "execution_count": 7,
     "metadata": {},
     "output_type": "execute_result"
    },
    {
     "data": {
      "image/png": "[encoded data removed]",
      "text/plain": [
       "<Figure size 640x480 with 1 Axes>"
      ]
     },
     "metadata": {},
     "output_type": "display_data"
    }
   ],
   "source": [
    "nr_request_data_noop = []\n",
    "nr_request_data_accept = [] \n",
    "\n",
    "def num_requests(data):\n",
    "    return len(data['httpRequests'])\n",
    "\n",
    "def fill_request_lists(accept_list,noop_list):\n",
    "    for crawl_accept in accept_list:\n",
    "        nr_request_data_accept.append(num_requests(crawl_accept))\n",
    "    for crawl_noop in noop_list:\n",
    "        nr_request_data_noop.append(num_requests(crawl_noop))\n",
    "\n",
    "fill_request_lists(accept_list,noop_list)\n",
    "request_boxplot = { 'Crawl-accept': nr_request_data_accept, 'Crawl-noop': nr_request_data_noop}\n",
    "\n",
    "print (nr_request_data_accept)\n",
    "print (nr_request_data_noop)\n",
    "\n",
    "df = pd.DataFrame(request_boxplot)\n",
    "df.plot(kind='box')\n",
    "\n",
    "\n",
    "    "
   ]
  },
  {
   "attachments": {},
   "cell_type": "markdown",
   "id": "7f475831-10b4-46f0-a8f4-96515c8fed10",
   "metadata": {},
   "source": [
    "##### c. Number of distinct third parties"
   ]
  },
  {
   "cell_type": "code",
   "execution_count": 8,
   "id": "afc96856-7c96-4046-99f6-3ba230a2fe70",
   "metadata": {},
   "outputs": [
    {
     "data": {
      "text/plain": [
       "<Axes: >"
      ]
     },
     "execution_count": 8,
     "metadata": {},
     "output_type": "execute_result"
    },
    {
     "data": {
      "image/png": "[encoded data removed]",
      "text/plain": [
       "<Figure size 640x480 with 1 Axes>"
      ]
     },
     "metadata": {},
     "output_type": "display_data"
    }
   ],
   "source": [
    "nr_distinct_third_party_accept = []\n",
    "nr_distinct_third_party_noop = []\n",
    "\n",
    "\n",
    "def distinct_third_parties(requests,main_domain):\n",
    "    third_parties = set()\n",
    "    for request in requests:\n",
    "        url = request['requestURL']\n",
    "        req_domain = get_fld(url)\n",
    "        if req_domain not in main_domain:\n",
    "            third_parties.add(req_domain)\n",
    "    return len(third_parties)  \n",
    "        \n",
    "\n",
    "def fill_distinct_list(accept_list,noop_list):\n",
    "    for crawl_accept in accept_list:\n",
    "        website_domain = crawl_accept['domain'] \n",
    "        nr_distinct_third_party_accept.append(distinct_third_parties(crawl_accept['httpRequests'], website_domain)) \n",
    "    for crawl_noop in noop_list:\n",
    "        website_domain = crawl_noop['domain'] \n",
    "        nr_distinct_third_party_noop.append(distinct_third_parties(crawl_noop['httpRequests'], website_domain))\n",
    "\n",
    "fill_distinct_list(accept_list,noop_list)\n",
    "third_party_boxplot = { 'Crawl-accept': nr_distinct_third_party_accept , 'Crawl-noop': nr_distinct_third_party_noop}\n",
    "\n",
    "\n",
    "df = pd.DataFrame(third_party_boxplot)\n",
    "df.plot(kind='box')\n",
    "\n",
    "## er zijn alleen maar requests van hetzelfde domain in de huidige data"
   ]
  },
  {
   "attachments": {},
   "cell_type": "markdown",
   "id": "c84d371e-1b06-45cf-bdc0-a5aa459e5de9",
   "metadata": {},
   "source": [
    "##### d. Number of distinct tracker domains\n"
   ]
  },
  {
   "cell_type": "code",
   "execution_count": null,
   "id": "025857e3-5bad-4d10-b011-bef77e133dd5",
   "metadata": {},
   "outputs": [],
   "source": []
  },
  {
   "attachments": {},
   "cell_type": "markdown",
   "id": "fdcf77ce-db42-4ce0-8ad1-a02e39fd1911",
   "metadata": {},
   "source": [
    "##### e. Number of distinct tracker entities/companies"
   ]
  },
  {
   "cell_type": "code",
   "execution_count": null,
   "id": "cb779eeb-9db3-4cea-b077-308847b15b7d",
   "metadata": {},
   "outputs": [],
   "source": []
  },
  {
   "attachments": {},
   "cell_type": "markdown",
   "id": "f2cb3fbe-3a71-4191-8c86-53883cdf6047",
   "metadata": {},
   "source": [
    "### 3: Comparison Crawl-accept vs Crawl-noop (table)"
   ]
  },
  {
   "cell_type": "code",
   "execution_count": null,
   "id": "fbf4ab9d-3be4-4a8b-ac3b-805d40905b65",
   "metadata": {},
   "outputs": [],
   "source": []
  },
  {
   "attachments": {},
   "cell_type": "markdown",
   "id": "2a116afd-fbc1-4833-89fc-6bf8166fb223",
   "metadata": {},
   "source": [
    "### 4: Table of the Ten most prevalent third-party domains \n",
    "##### (based on the number of distinct websites where the third party is present)"
   ]
  },
  {
   "cell_type": "code",
   "execution_count": 65,
   "id": "c0725419-1451-4903-9e92-0a1e05a100fc",
   "metadata": {},
   "outputs": [
    {
     "name": "stdout",
     "output_type": "stream",
     "text": [
      "('test11', (11, 11))\n"
     ]
    },
    {
     "ename": "IndexError",
     "evalue": "tuple index out of range",
     "output_type": "error",
     "traceback": [
      "\u001b[1;31m---------------------------------------------------------------------------\u001b[0m",
      "\u001b[1;31mIndexError\u001b[0m                                Traceback (most recent call last)",
      "Cell \u001b[1;32mIn[65], line 55\u001b[0m\n\u001b[0;32m     53\u001b[0m \u001b[39mfor\u001b[39;00m entry \u001b[39min\u001b[39;00m top10:\n\u001b[0;32m     54\u001b[0m     \u001b[39mprint\u001b[39m(entry)\n\u001b[1;32m---> 55\u001b[0m     third_party_table[entry[\u001b[39m0\u001b[39m]][\u001b[39m'\u001b[39m\u001b[39mCrawl-accept\u001b[39m\u001b[39m'\u001b[39m] \u001b[39m=\u001b[39m entry[entry[\u001b[39m1\u001b[39;49m][\u001b[39m0\u001b[39;49m]]\n\u001b[0;32m     56\u001b[0m     third_party_table[entry[\u001b[39m0\u001b[39m]][\u001b[39m'\u001b[39m\u001b[39mCrawl-noop\u001b[39m\u001b[39m'\u001b[39m] \u001b[39m=\u001b[39m entry[entry[\u001b[39m1\u001b[39m][\u001b[39m1\u001b[39m]]\n\u001b[0;32m     57\u001b[0m     third_party_table[entry[\u001b[39m0\u001b[39m]][\u001b[39m'\u001b[39m\u001b[39misTracker?\u001b[39m\u001b[39m'\u001b[39m] \u001b[39m=\u001b[39m is_tracker\u001b[39m.\u001b[39mget(entry[\u001b[39m0\u001b[39m], \u001b[39m\"\u001b[39m\u001b[39mNo\u001b[39m\u001b[39m\"\u001b[39m)\n",
      "\u001b[1;31mIndexError\u001b[0m: tuple index out of range"
     ]
    }
   ],
   "source": [
    "cookies = {}\n",
    "is_tracker = {}\n",
    "# domain : (nr. of occurrences in accept, nr. of occurrences in noop)\n",
    "\n",
    "def increment_accept(tuple):\n",
    "    return ((tuple[0]+1, tuple[1]))\n",
    "\n",
    "def increment_noop(tuple):\n",
    "    return ((tuple[0], tuple[1]+1))\n",
    "\n",
    "def add_distinct_cookies(list, mode):\n",
    "    for entry in list:\n",
    "        if entry['cookies']:\n",
    "            entry_cookies = []\n",
    "            for cookie in entry['cookies']:\n",
    "                if cookie['domain'] not in entry_cookies:\n",
    "                    if mode == 'accept':\n",
    "                        cookies[cookie['domain']] = increment_accept(cookies.get(cookie['domain'], (0,0)))\n",
    "                    elif mode == 'noop':\n",
    "                        cookies[cookie['domain']] = increment_noop(cookies.get(cookie['domain'], (0,0)))\n",
    "                    entry_cookies.append(cookie['domain'])\n",
    "\n",
    "add_distinct_cookies(accept_list, 'accept')\n",
    "add_distinct_cookies(noop_list, 'noop')\n",
    "\n",
    "cookies['test1'] = (1,1)\n",
    "cookies['test2'] = (2,20)\n",
    "cookies['test3'] = (3,3)\n",
    "cookies['test4'] = (4,4)\n",
    "cookies['test5'] = (5,5)\n",
    "cookies['test6'] = (6,6)\n",
    "cookies['test7'] = (7,7)\n",
    "cookies['test8'] = (8,8)\n",
    "cookies['test9'] = (9,9)\n",
    "cookies['test10'] = (10,10)\n",
    "cookies['test11'] = (11,11)\n",
    "cookies['1-2-1marketing.com'] = (10,5)\n",
    "\n",
    "top10 = sorted(cookies.items(), key=lambda x:-x[1][0])[:10]\n",
    "\n",
    "with open(\"entities.json\", \"r\", encoding=\"utf8\") as tracker_file:\n",
    "    file_contents = tracker_file.read()\n",
    "trackers = json.loads(file_contents)['entities']\n",
    "for tracker in trackers:\n",
    "    if trackers[tracker]['properties']:\n",
    "        for domain in trackers[tracker]['properties']:\n",
    "            for item in top10:\n",
    "                if domain == item[0]:\n",
    "                    is_tracker[domain] = \"Yes\"\n",
    "\n",
    "empty_third_party_table = {'Third-party domain' : ['Crawl-accept', 'Crawl-noop', 'isTracker?']}\n",
    "third_party_table = pd.DataFrame(empty_third_party_table).set_index('Third-party domain')\n",
    "for entry in top10:\n",
    "    third_party_table[entry[0]]['Crawl-accept'] = entry[1][0]\n",
    "    third_party_table[entry[0]]['Crawl-noop'] = entry[1][1]\n",
    "    third_party_table[entry[0]]['isTracker?'] = is_tracker.get(entry[0], \"No\")\n",
    "\n",
    "print(third_party_table)\n",
    "    \n",
    "\n",
    "\n",
    "\n",
    "# #create a table for the crawl failures\n",
    "# empty_failure_table = { 'Error type': ['Page load timeout','DNS error','Consent click error'],\n",
    "#          'Crawl-accept':[0,0,0],\n",
    "#          'Crawl-noop':[0,0,0]}\n",
    "\n",
    "# failure_table  = pd.DataFrame(empty_failure_table).set_index('Error type')\n",
    "\n",
    "# #check if there was a failure\n",
    "# def check_failure (data, crawl_type):\n",
    "#     if data['consentClickError']:\n",
    "#         failure_table[crawl_type]['Consent click error'] =+ 1\n",
    "#     elif data['pageLoadTimeout']:\n",
    "#         failure_table[crawl_type]['Page load timeout'] =+ 1\n",
    "#     elif data['dnsError']:\n",
    "#         failure_table[crawl_type]['DNS error'] =+ 1\n",
    "\n",
    "\n",
    "# #fill in the  crawl failure table\n",
    "# def fill_table (website_pairs , table):\n",
    "#     #loop throught\n",
    "#     for accept,noop in website_pairs:\n",
    "#             #check if there was a failure\n",
    "#             check_failure(accept,'Crawl-accept' )\n",
    "#             check_failure(noop, 'Crawl-noop')\n",
    "\n",
    "            \n",
    "# ##fill in the failure table\n",
    "# fill_table(website_pairs,failure_table)\n",
    "\n",
    "# print (failure_table)"
   ]
  },
  {
   "attachments": {},
   "cell_type": "markdown",
   "id": "45c7e291-f1b8-4ddf-a88d-8e3af9b0a6dd",
   "metadata": {},
   "source": [
    "### 5: Scatter plot of:\n",
    "##### Y: Number of distinct tracker domains\n",
    "##### VS\n",
    "##### X: Website’s Tranco rank\n",
    "###### (for each crawl)"
   ]
  },
  {
   "cell_type": "code",
   "execution_count": null,
   "id": "4aaa6992-72dd-4c2f-b2da-395fefa53954",
   "metadata": {},
   "outputs": [],
   "source": []
  },
  {
   "attachments": {},
   "cell_type": "markdown",
   "id": "3e5ce925-2690-46b4-aa14-833960878547",
   "metadata": {},
   "source": [
    "### 6: Table of the Top ten tracker entities (companies) and their prevalence\n",
    "##### (based on the number of distinct websites where the entity is present). Similar to the table in 4, but should only contain tracker entities)."
   ]
  },
  {
   "cell_type": "code",
   "execution_count": null,
   "id": "934b31d3-78ed-47b1-bc72-7243df00c4e2",
   "metadata": {},
   "outputs": [],
   "source": []
  },
  {
   "attachments": {},
   "cell_type": "markdown",
   "id": "77d9b0a9-79ef-42cd-80a3-53772fbe4788",
   "metadata": {},
   "source": [
    "### 7: Find the three cookies with the longest lifespans **for each crawl**\n",
    "##### Add a separate table for each crawl having the following columns (see assignment). Only include the first 5 characters of the Value attribute."
   ]
  },
  {
   "cell_type": "code",
   "execution_count": null,
   "id": "01caf393-1f2e-4fc4-aea2-3980aea3f648",
   "metadata": {},
   "outputs": [],
   "source": []
  },
  {
   "attachments": {},
   "cell_type": "markdown",
   "id": "dacdcd39-1207-4194-a02a-8b9d55748cb9",
   "metadata": {},
   "source": [
    "### 8: Find the three requests with the most cookies **for each crawl**"
   ]
  },
  {
   "cell_type": "code",
   "execution_count": null,
   "id": "5758aa8d-6112-41ff-9f9d-915e27910175",
   "metadata": {},
   "outputs": [],
   "source": []
  },
  {
   "attachments": {},
   "cell_type": "markdown",
   "id": "8f5cfd38-f3a7-4506-8ec2-f559d832ad6d",
   "metadata": {},
   "source": [
    "### 9: Identify ten most common cross-domain HTTP redirection pairs \n",
    "#### that involve a tracker domain either in the source or the target(or both)"
   ]
  },
  {
   "cell_type": "code",
   "execution_count": null,
   "id": "bbfdbed0-170f-4e91-bba0-cf27f593b78c",
   "metadata": {},
   "outputs": [],
   "source": []
  },
  {
   "attachments": {},
   "cell_type": "markdown",
   "id": "8c0054c1-459a-4670-b33e-c8439d78bfbf",
   "metadata": {},
   "source": [
    "### 10: Capture the Images drawn by the canvas fingerprinting scripts\n",
    "#### Create a table (see assignment)"
   ]
  },
  {
   "cell_type": "code",
   "execution_count": null,
   "id": "c03c118e-c260-4e4e-8ae6-9622a14e39ba",
   "metadata": {},
   "outputs": [],
   "source": []
  }
 ],
 "metadata": {
  "kernelspec": {
   "display_name": "Python 3 (ipykernel)",
   "language": "python",
   "name": "python3"
  },
  "language_info": {
   "codemirror_mode": {
    "name": "ipython",
    "version": 3
   },
   "file_extension": ".py",
   "mimetype": "text/x-python",
   "name": "python",
   "nbconvert_exporter": "python",
   "pygments_lexer": "ipython3",
   "version": "3.10.10"
  }
 },
 "nbformat": 4,
 "nbformat_minor": 5
}
